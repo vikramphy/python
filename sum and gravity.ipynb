{
 "cells": [
  {
   "cell_type": "code",
   "execution_count": null,
   "id": "fbb253cb",
   "metadata": {},
   "outputs": [],
   "source": [
    "import numpy as np\n",
    "import random as random\n"
   ]
  },
  {
   "cell_type": "code",
   "execution_count": 1,
   "id": "6a7a4203",
   "metadata": {},
   "outputs": [
    {
     "data": {
      "text/plain": [
       "12"
      ]
     },
     "execution_count": 1,
     "metadata": {},
     "output_type": "execute_result"
    }
   ],
   "source": [
    "sum([5,7])"
   ]
  },
  {
   "cell_type": "code",
   "execution_count": 2,
   "id": "8f37b980",
   "metadata": {},
   "outputs": [
    {
     "data": {
      "text/plain": [
       "2.001e-10"
      ]
     },
     "execution_count": 2,
     "metadata": {},
     "output_type": "execute_result"
    }
   ],
   "source": [
    "def gravity(r,m1,m2):\n",
    "    G=6.67*10**-11\n",
    "    F=G*m1*m2/r**2\n",
    "    return F\n",
    "gravity(2,4,3)\n"
   ]
  },
  {
   "cell_type": "code",
   "execution_count": 3,
   "id": "cfbd5e2e",
   "metadata": {},
   "outputs": [
    {
     "data": {
      "text/plain": [
       "0.0667"
      ]
     },
     "execution_count": 3,
     "metadata": {},
     "output_type": "execute_result"
    }
   ],
   "source": [
    "gravity(10,100000,1000000)"
   ]
  },
  {
   "cell_type": "code",
   "execution_count": null,
   "id": "2af7fcd2",
   "metadata": {},
   "outputs": [],
   "source": [
    "import matplotlib.pyplot as plt\n",
    "import seaborn as sns\n",
    "import random as random\n",
    "%matplotlib inline\n",
    "sns.set()"
   ]
  },
  {
   "cell_type": "code",
   "execution_count": null,
   "id": "d41b4839",
   "metadata": {},
   "outputs": [],
   "source": [
    "import random as random\n",
    "x = 0\n",
    "y = 0\n",
    "X = [x]\n",
    "Y = [y]\n",
    "n=1\n",
    "isprint = False\n",
    "while n < 1000000:\n",
    "    r = random.uniform(0,100)\n",
    "    if r <  1.0:\n",
    "        x = 0\n",
    "        y = 0.16*Y[n-1]\n",
    "        X.append(x) ; Y.append(y)\n",
    "        \n",
    "    elif r > 1.0 and r < 86.0:\n",
    "        x = 0.85*X[n-1] + 0.04*Y[n-1]\n",
    "        y = -0.04*X[n-1] + 0.85*Y[n-1]+1.6\n",
    "        X.append(x);Y.append(y)\n",
    "    elif r > 86.0 and r < 93.0:\n",
    "        x = 0.2*X[n-1] - 0.26*Y[n-1]\n",
    "        y = 0.23*X[n-1] + 0.22*Y[n-1] + 1.6\n",
    "        \n",
    "        X.append(x);Y.append(y)\n",
    "    \n",
    "    elif r > 93.0 and r < 100.0:\n",
    "        x = -0.15*X[n-1] + 0.28*Y[n-1]\n",
    "        y = 0.26*X[n-1] + 0.24*Y[n-1] + 0.44\n",
    "        \n",
    "        X.append(x);Y.append(y)\n",
    "        \n",
    "    if isprint:\n",
    "        print(\"step: \",n,\"random number is: \", r, \"coordinate is : \", x,y)\n",
    "        \n",
    "    n = n+1"
   ]
  },
  {
   "cell_type": "code",
   "execution_count": 4,
   "id": "b1dac281",
   "metadata": {},
   "outputs": [
    {
     "ename": "IndentationError",
     "evalue": "unexpected indent (137809454.py, line 2)",
     "output_type": "error",
     "traceback": [
      "\u001b[1;36m  Input \u001b[1;32mIn [4]\u001b[1;36m\u001b[0m\n\u001b[1;33m    plt.scatter(X,Y,color = 'g',marker = '.')\u001b[0m\n\u001b[1;37m    ^\u001b[0m\n\u001b[1;31mIndentationError\u001b[0m\u001b[1;31m:\u001b[0m unexpected indent\n"
     ]
    }
   ],
   "source": [
    "  plt.figure(figsize = [5,8])\n",
    "plt.scatter(X,Y,color = 'g',marker = '.')\n",
    "    plt.show()"
   ]
  },
  {
   "cell_type": "code",
   "execution_count": null,
   "id": "e463b61c",
   "metadata": {},
   "outputs": [],
   "source": []
  }
 ],
 "metadata": {
  "kernelspec": {
   "display_name": "Python 3 (ipykernel)",
   "language": "python",
   "name": "python3"
  },
  "language_info": {
   "codemirror_mode": {
    "name": "ipython",
    "version": 3
   },
   "file_extension": ".py",
   "mimetype": "text/x-python",
   "name": "python",
   "nbconvert_exporter": "python",
   "pygments_lexer": "ipython3",
   "version": "3.9.12"
  }
 },
 "nbformat": 4,
 "nbformat_minor": 5
}
